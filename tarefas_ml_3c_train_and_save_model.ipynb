{
  "nbformat": 4,
  "nbformat_minor": 0,
  "metadata": {
    "colab": {
      "name": "tarefas_ml_3c_train_and_save_model.ipynb",
      "provenance": [],
      "collapsed_sections": [],
      "authorship_tag": "ABX9TyPgjm8ZGabc5zojUtwA88qb",
      "include_colab_link": true
    },
    "kernelspec": {
      "name": "python3",
      "display_name": "Python 3"
    },
    "language_info": {
      "name": "python"
    }
  },
  "cells": [
    {
      "cell_type": "markdown",
      "metadata": {
        "id": "view-in-github",
        "colab_type": "text"
      },
      "source": [
        "<a href=\"https://colab.research.google.com/github/AntonioMoradoRamos/meia-masterdegree-utils/blob/main/tarefas_ml_3c_train_and_save_model.ipynb\" target=\"_parent\"><img src=\"https://colab.research.google.com/assets/colab-badge.svg\" alt=\"Open In Colab\"/></a>"
      ]
    },
    {
      "cell_type": "markdown",
      "source": [
        "# Serializing object with JobLib"
      ],
      "metadata": {
        "id": "JTSkKC8R_Dxc"
      }
    },
    {
      "cell_type": "markdown",
      "source": [
        "\n",
        "\n",
        "- https://joblib.readthedocs.io/en/latest/index.html"
      ],
      "metadata": {
        "id": "-Gq5G7T-tIDZ"
      }
    },
    {
      "cell_type": "markdown",
      "source": [
        "##Libraries"
      ],
      "metadata": {
        "id": "JdoUuR3i_G_F"
      }
    },
    {
      "cell_type": "code",
      "execution_count": 1,
      "metadata": {
        "id": "L6zIA77t9hlU"
      },
      "outputs": [],
      "source": [
        "import pandas as pd\n",
        "import numpy as np\n",
        "\n",
        "import datetime\n",
        "from datetime import date, timedelta\n",
        "from datetime import time"
      ]
    },
    {
      "cell_type": "code",
      "source": [
        "#from sklearn.datasets import load_diabetes\n",
        "from sklearn.model_selection import train_test_split\n",
        "from sklearn.ensemble import (RandomForestRegressor, \n",
        "                              RandomForestClassifier)"
      ],
      "metadata": {
        "id": "8u5jeXoeoVvt"
      },
      "execution_count": 2,
      "outputs": []
    },
    {
      "cell_type": "code",
      "source": [
        "# Versão do python\n",
        "!python --version"
      ],
      "metadata": {
        "id": "OT58OfkEZ7gF",
        "colab": {
          "base_uri": "https://localhost:8080/"
        },
        "outputId": "4306449f-2ae0-457a-84c3-be3520143dd0"
      },
      "execution_count": 3,
      "outputs": [
        {
          "output_type": "stream",
          "name": "stdout",
          "text": [
            "Python 3.7.13\n"
          ]
        }
      ]
    },
    {
      "cell_type": "code",
      "source": [
        "# Versão do panas\n",
        "print(pd.__version__)"
      ],
      "metadata": {
        "colab": {
          "base_uri": "https://localhost:8080/"
        },
        "id": "mZID07hc8Crl",
        "outputId": "49ff272b-234a-459d-81e8-df430da2072e"
      },
      "execution_count": 4,
      "outputs": [
        {
          "output_type": "stream",
          "name": "stdout",
          "text": [
            "1.3.5\n"
          ]
        }
      ]
    },
    {
      "cell_type": "markdown",
      "source": [
        "##Load Dataset"
      ],
      "metadata": {
        "id": "rqDDwCox_Jw1"
      }
    },
    {
      "cell_type": "code",
      "source": [
        "csv_file_name = \"jan_2019_havc_light_socket_sum_period_day.csv\"\n",
        "ds_merged = pd.read_csv(csv_file_name, sep = ';')"
      ],
      "metadata": {
        "id": "cdF6x9YfaZ0y"
      },
      "execution_count": 5,
      "outputs": []
    },
    {
      "cell_type": "code",
      "source": [
        "ds_merged.head()"
      ],
      "metadata": {
        "id": "cxby9lyvwmuy",
        "colab": {
          "base_uri": "https://localhost:8080/",
          "height": 404
        },
        "outputId": "8183cb17-a702-47d8-e3d2-49642af63ac6"
      },
      "execution_count": 6,
      "outputs": [
        {
          "output_type": "execute_result",
          "data": {
            "text/plain": [
              "   Unnamed: 0        date      time  consumption_w  generation_w  \\\n",
              "0           0  2019-01-01  00:05:00           2985             0   \n",
              "1           1  2019-01-01  00:10:00           2258             0   \n",
              "2           2  2019-01-01  00:15:00           2266             0   \n",
              "3           3  2019-01-01  00:20:00           3016             0   \n",
              "4           4  2019-01-01  00:25:00           2265             0   \n",
              "\n",
              "   temperature_c  humidity_perc  radiation_Wm_2  power_w_zone_1_hvac1  \\\n",
              "0            8.7           76.0             0.0                     8   \n",
              "1            8.6           76.0             0.0                     4   \n",
              "2            8.7           76.0             0.0                     8   \n",
              "3            8.7           76.0             0.0                     8   \n",
              "4            8.6           76.0             0.0                     7   \n",
              "\n",
              "   power_w_zone_1_hvac2  ...  power_w_zone_4_light  power_w_zone_4_sockets  \\\n",
              "0                     0  ...                     0                     171   \n",
              "1                     0  ...                     0                     169   \n",
              "2                     0  ...                     0                     169   \n",
              "3                     0  ...                     0                     167   \n",
              "4                     0  ...                     0                     167   \n",
              "\n",
              "   power_w_zone_5_hvac  power_w_zone_5_light  power_w_zone_5_sockets  \\\n",
              "0                    0                     0                     232   \n",
              "1                    0                     0                     233   \n",
              "2                    0                     0                     233   \n",
              "3                    0                     0                     232   \n",
              "4                    0                     0                     230   \n",
              "\n",
              "   power_w_hvac  power_w_light  power_w_socket  isoweekday  period_of_day  \n",
              "0           898              0            2087           2              1  \n",
              "1           182              0            2076           2              1  \n",
              "2           186              0            2080           2              1  \n",
              "3           950              0            2066           2              1  \n",
              "4           186              0            2079           2              1  \n",
              "\n",
              "[5 rows x 33 columns]"
            ],
            "text/html": [
              "\n",
              "  <div id=\"df-97c313cf-c849-489f-90f7-cffdd45729ed\">\n",
              "    <div class=\"colab-df-container\">\n",
              "      <div>\n",
              "<style scoped>\n",
              "    .dataframe tbody tr th:only-of-type {\n",
              "        vertical-align: middle;\n",
              "    }\n",
              "\n",
              "    .dataframe tbody tr th {\n",
              "        vertical-align: top;\n",
              "    }\n",
              "\n",
              "    .dataframe thead th {\n",
              "        text-align: right;\n",
              "    }\n",
              "</style>\n",
              "<table border=\"1\" class=\"dataframe\">\n",
              "  <thead>\n",
              "    <tr style=\"text-align: right;\">\n",
              "      <th></th>\n",
              "      <th>Unnamed: 0</th>\n",
              "      <th>date</th>\n",
              "      <th>time</th>\n",
              "      <th>consumption_w</th>\n",
              "      <th>generation_w</th>\n",
              "      <th>temperature_c</th>\n",
              "      <th>humidity_perc</th>\n",
              "      <th>radiation_Wm_2</th>\n",
              "      <th>power_w_zone_1_hvac1</th>\n",
              "      <th>power_w_zone_1_hvac2</th>\n",
              "      <th>...</th>\n",
              "      <th>power_w_zone_4_light</th>\n",
              "      <th>power_w_zone_4_sockets</th>\n",
              "      <th>power_w_zone_5_hvac</th>\n",
              "      <th>power_w_zone_5_light</th>\n",
              "      <th>power_w_zone_5_sockets</th>\n",
              "      <th>power_w_hvac</th>\n",
              "      <th>power_w_light</th>\n",
              "      <th>power_w_socket</th>\n",
              "      <th>isoweekday</th>\n",
              "      <th>period_of_day</th>\n",
              "    </tr>\n",
              "  </thead>\n",
              "  <tbody>\n",
              "    <tr>\n",
              "      <th>0</th>\n",
              "      <td>0</td>\n",
              "      <td>2019-01-01</td>\n",
              "      <td>00:05:00</td>\n",
              "      <td>2985</td>\n",
              "      <td>0</td>\n",
              "      <td>8.7</td>\n",
              "      <td>76.0</td>\n",
              "      <td>0.0</td>\n",
              "      <td>8</td>\n",
              "      <td>0</td>\n",
              "      <td>...</td>\n",
              "      <td>0</td>\n",
              "      <td>171</td>\n",
              "      <td>0</td>\n",
              "      <td>0</td>\n",
              "      <td>232</td>\n",
              "      <td>898</td>\n",
              "      <td>0</td>\n",
              "      <td>2087</td>\n",
              "      <td>2</td>\n",
              "      <td>1</td>\n",
              "    </tr>\n",
              "    <tr>\n",
              "      <th>1</th>\n",
              "      <td>1</td>\n",
              "      <td>2019-01-01</td>\n",
              "      <td>00:10:00</td>\n",
              "      <td>2258</td>\n",
              "      <td>0</td>\n",
              "      <td>8.6</td>\n",
              "      <td>76.0</td>\n",
              "      <td>0.0</td>\n",
              "      <td>4</td>\n",
              "      <td>0</td>\n",
              "      <td>...</td>\n",
              "      <td>0</td>\n",
              "      <td>169</td>\n",
              "      <td>0</td>\n",
              "      <td>0</td>\n",
              "      <td>233</td>\n",
              "      <td>182</td>\n",
              "      <td>0</td>\n",
              "      <td>2076</td>\n",
              "      <td>2</td>\n",
              "      <td>1</td>\n",
              "    </tr>\n",
              "    <tr>\n",
              "      <th>2</th>\n",
              "      <td>2</td>\n",
              "      <td>2019-01-01</td>\n",
              "      <td>00:15:00</td>\n",
              "      <td>2266</td>\n",
              "      <td>0</td>\n",
              "      <td>8.7</td>\n",
              "      <td>76.0</td>\n",
              "      <td>0.0</td>\n",
              "      <td>8</td>\n",
              "      <td>0</td>\n",
              "      <td>...</td>\n",
              "      <td>0</td>\n",
              "      <td>169</td>\n",
              "      <td>0</td>\n",
              "      <td>0</td>\n",
              "      <td>233</td>\n",
              "      <td>186</td>\n",
              "      <td>0</td>\n",
              "      <td>2080</td>\n",
              "      <td>2</td>\n",
              "      <td>1</td>\n",
              "    </tr>\n",
              "    <tr>\n",
              "      <th>3</th>\n",
              "      <td>3</td>\n",
              "      <td>2019-01-01</td>\n",
              "      <td>00:20:00</td>\n",
              "      <td>3016</td>\n",
              "      <td>0</td>\n",
              "      <td>8.7</td>\n",
              "      <td>76.0</td>\n",
              "      <td>0.0</td>\n",
              "      <td>8</td>\n",
              "      <td>0</td>\n",
              "      <td>...</td>\n",
              "      <td>0</td>\n",
              "      <td>167</td>\n",
              "      <td>0</td>\n",
              "      <td>0</td>\n",
              "      <td>232</td>\n",
              "      <td>950</td>\n",
              "      <td>0</td>\n",
              "      <td>2066</td>\n",
              "      <td>2</td>\n",
              "      <td>1</td>\n",
              "    </tr>\n",
              "    <tr>\n",
              "      <th>4</th>\n",
              "      <td>4</td>\n",
              "      <td>2019-01-01</td>\n",
              "      <td>00:25:00</td>\n",
              "      <td>2265</td>\n",
              "      <td>0</td>\n",
              "      <td>8.6</td>\n",
              "      <td>76.0</td>\n",
              "      <td>0.0</td>\n",
              "      <td>7</td>\n",
              "      <td>0</td>\n",
              "      <td>...</td>\n",
              "      <td>0</td>\n",
              "      <td>167</td>\n",
              "      <td>0</td>\n",
              "      <td>0</td>\n",
              "      <td>230</td>\n",
              "      <td>186</td>\n",
              "      <td>0</td>\n",
              "      <td>2079</td>\n",
              "      <td>2</td>\n",
              "      <td>1</td>\n",
              "    </tr>\n",
              "  </tbody>\n",
              "</table>\n",
              "<p>5 rows × 33 columns</p>\n",
              "</div>\n",
              "      <button class=\"colab-df-convert\" onclick=\"convertToInteractive('df-97c313cf-c849-489f-90f7-cffdd45729ed')\"\n",
              "              title=\"Convert this dataframe to an interactive table.\"\n",
              "              style=\"display:none;\">\n",
              "        \n",
              "  <svg xmlns=\"http://www.w3.org/2000/svg\" height=\"24px\"viewBox=\"0 0 24 24\"\n",
              "       width=\"24px\">\n",
              "    <path d=\"M0 0h24v24H0V0z\" fill=\"none\"/>\n",
              "    <path d=\"M18.56 5.44l.94 2.06.94-2.06 2.06-.94-2.06-.94-.94-2.06-.94 2.06-2.06.94zm-11 1L8.5 8.5l.94-2.06 2.06-.94-2.06-.94L8.5 2.5l-.94 2.06-2.06.94zm10 10l.94 2.06.94-2.06 2.06-.94-2.06-.94-.94-2.06-.94 2.06-2.06.94z\"/><path d=\"M17.41 7.96l-1.37-1.37c-.4-.4-.92-.59-1.43-.59-.52 0-1.04.2-1.43.59L10.3 9.45l-7.72 7.72c-.78.78-.78 2.05 0 2.83L4 21.41c.39.39.9.59 1.41.59.51 0 1.02-.2 1.41-.59l7.78-7.78 2.81-2.81c.8-.78.8-2.07 0-2.86zM5.41 20L4 18.59l7.72-7.72 1.47 1.35L5.41 20z\"/>\n",
              "  </svg>\n",
              "      </button>\n",
              "      \n",
              "  <style>\n",
              "    .colab-df-container {\n",
              "      display:flex;\n",
              "      flex-wrap:wrap;\n",
              "      gap: 12px;\n",
              "    }\n",
              "\n",
              "    .colab-df-convert {\n",
              "      background-color: #E8F0FE;\n",
              "      border: none;\n",
              "      border-radius: 50%;\n",
              "      cursor: pointer;\n",
              "      display: none;\n",
              "      fill: #1967D2;\n",
              "      height: 32px;\n",
              "      padding: 0 0 0 0;\n",
              "      width: 32px;\n",
              "    }\n",
              "\n",
              "    .colab-df-convert:hover {\n",
              "      background-color: #E2EBFA;\n",
              "      box-shadow: 0px 1px 2px rgba(60, 64, 67, 0.3), 0px 1px 3px 1px rgba(60, 64, 67, 0.15);\n",
              "      fill: #174EA6;\n",
              "    }\n",
              "\n",
              "    [theme=dark] .colab-df-convert {\n",
              "      background-color: #3B4455;\n",
              "      fill: #D2E3FC;\n",
              "    }\n",
              "\n",
              "    [theme=dark] .colab-df-convert:hover {\n",
              "      background-color: #434B5C;\n",
              "      box-shadow: 0px 1px 3px 1px rgba(0, 0, 0, 0.15);\n",
              "      filter: drop-shadow(0px 1px 2px rgba(0, 0, 0, 0.3));\n",
              "      fill: #FFFFFF;\n",
              "    }\n",
              "  </style>\n",
              "\n",
              "      <script>\n",
              "        const buttonEl =\n",
              "          document.querySelector('#df-97c313cf-c849-489f-90f7-cffdd45729ed button.colab-df-convert');\n",
              "        buttonEl.style.display =\n",
              "          google.colab.kernel.accessAllowed ? 'block' : 'none';\n",
              "\n",
              "        async function convertToInteractive(key) {\n",
              "          const element = document.querySelector('#df-97c313cf-c849-489f-90f7-cffdd45729ed');\n",
              "          const dataTable =\n",
              "            await google.colab.kernel.invokeFunction('convertToInteractive',\n",
              "                                                     [key], {});\n",
              "          if (!dataTable) return;\n",
              "\n",
              "          const docLinkHtml = 'Like what you see? Visit the ' +\n",
              "            '<a target=\"_blank\" href=https://colab.research.google.com/notebooks/data_table.ipynb>data table notebook</a>'\n",
              "            + ' to learn more about interactive tables.';\n",
              "          element.innerHTML = '';\n",
              "          dataTable['output_type'] = 'display_data';\n",
              "          await google.colab.output.renderOutput(dataTable, element);\n",
              "          const docLink = document.createElement('div');\n",
              "          docLink.innerHTML = docLinkHtml;\n",
              "          element.appendChild(docLink);\n",
              "        }\n",
              "      </script>\n",
              "    </div>\n",
              "  </div>\n",
              "  "
            ]
          },
          "metadata": {},
          "execution_count": 6
        }
      ]
    },
    {
      "cell_type": "code",
      "source": [
        "# Retirar o atributo \"Unnamed: 0\"\n",
        "ds_merged.drop(columns=['Unnamed: 0'], inplace=True)"
      ],
      "metadata": {
        "id": "pOO8Q3Q-nH3Q"
      },
      "execution_count": 7,
      "outputs": []
    },
    {
      "cell_type": "code",
      "source": [
        "# Converter o tipo de dado do atributo \"date\" para datetime\n",
        "ds_merged['date']= pd.to_datetime(ds_merged['date'])"
      ],
      "metadata": {
        "id": "dIsjMDaEnJnv"
      },
      "execution_count": 8,
      "outputs": []
    },
    {
      "cell_type": "code",
      "source": [
        "ds_merged.head()"
      ],
      "metadata": {
        "colab": {
          "base_uri": "https://localhost:8080/",
          "height": 387
        },
        "id": "lL392UWlnM6Q",
        "outputId": "b8dd4ab9-40ca-42ff-b68e-cfb4a8b3f84d"
      },
      "execution_count": 9,
      "outputs": [
        {
          "output_type": "execute_result",
          "data": {
            "text/plain": [
              "        date      time  consumption_w  generation_w  temperature_c  \\\n",
              "0 2019-01-01  00:05:00           2985             0            8.7   \n",
              "1 2019-01-01  00:10:00           2258             0            8.6   \n",
              "2 2019-01-01  00:15:00           2266             0            8.7   \n",
              "3 2019-01-01  00:20:00           3016             0            8.7   \n",
              "4 2019-01-01  00:25:00           2265             0            8.6   \n",
              "\n",
              "   humidity_perc  radiation_Wm_2  power_w_zone_1_hvac1  power_w_zone_1_hvac2  \\\n",
              "0           76.0             0.0                     8                     0   \n",
              "1           76.0             0.0                     4                     0   \n",
              "2           76.0             0.0                     8                     0   \n",
              "3           76.0             0.0                     8                     0   \n",
              "4           76.0             0.0                     7                     0   \n",
              "\n",
              "   power_w_zone_1_hvac3  ...  power_w_zone_4_light  power_w_zone_4_sockets  \\\n",
              "0                     0  ...                     0                     171   \n",
              "1                     0  ...                     0                     169   \n",
              "2                     0  ...                     0                     169   \n",
              "3                     0  ...                     0                     167   \n",
              "4                     0  ...                     0                     167   \n",
              "\n",
              "   power_w_zone_5_hvac  power_w_zone_5_light  power_w_zone_5_sockets  \\\n",
              "0                    0                     0                     232   \n",
              "1                    0                     0                     233   \n",
              "2                    0                     0                     233   \n",
              "3                    0                     0                     232   \n",
              "4                    0                     0                     230   \n",
              "\n",
              "   power_w_hvac  power_w_light  power_w_socket  isoweekday  period_of_day  \n",
              "0           898              0            2087           2              1  \n",
              "1           182              0            2076           2              1  \n",
              "2           186              0            2080           2              1  \n",
              "3           950              0            2066           2              1  \n",
              "4           186              0            2079           2              1  \n",
              "\n",
              "[5 rows x 32 columns]"
            ],
            "text/html": [
              "\n",
              "  <div id=\"df-1aea291f-7769-4e16-a845-55a9696ae060\">\n",
              "    <div class=\"colab-df-container\">\n",
              "      <div>\n",
              "<style scoped>\n",
              "    .dataframe tbody tr th:only-of-type {\n",
              "        vertical-align: middle;\n",
              "    }\n",
              "\n",
              "    .dataframe tbody tr th {\n",
              "        vertical-align: top;\n",
              "    }\n",
              "\n",
              "    .dataframe thead th {\n",
              "        text-align: right;\n",
              "    }\n",
              "</style>\n",
              "<table border=\"1\" class=\"dataframe\">\n",
              "  <thead>\n",
              "    <tr style=\"text-align: right;\">\n",
              "      <th></th>\n",
              "      <th>date</th>\n",
              "      <th>time</th>\n",
              "      <th>consumption_w</th>\n",
              "      <th>generation_w</th>\n",
              "      <th>temperature_c</th>\n",
              "      <th>humidity_perc</th>\n",
              "      <th>radiation_Wm_2</th>\n",
              "      <th>power_w_zone_1_hvac1</th>\n",
              "      <th>power_w_zone_1_hvac2</th>\n",
              "      <th>power_w_zone_1_hvac3</th>\n",
              "      <th>...</th>\n",
              "      <th>power_w_zone_4_light</th>\n",
              "      <th>power_w_zone_4_sockets</th>\n",
              "      <th>power_w_zone_5_hvac</th>\n",
              "      <th>power_w_zone_5_light</th>\n",
              "      <th>power_w_zone_5_sockets</th>\n",
              "      <th>power_w_hvac</th>\n",
              "      <th>power_w_light</th>\n",
              "      <th>power_w_socket</th>\n",
              "      <th>isoweekday</th>\n",
              "      <th>period_of_day</th>\n",
              "    </tr>\n",
              "  </thead>\n",
              "  <tbody>\n",
              "    <tr>\n",
              "      <th>0</th>\n",
              "      <td>2019-01-01</td>\n",
              "      <td>00:05:00</td>\n",
              "      <td>2985</td>\n",
              "      <td>0</td>\n",
              "      <td>8.7</td>\n",
              "      <td>76.0</td>\n",
              "      <td>0.0</td>\n",
              "      <td>8</td>\n",
              "      <td>0</td>\n",
              "      <td>0</td>\n",
              "      <td>...</td>\n",
              "      <td>0</td>\n",
              "      <td>171</td>\n",
              "      <td>0</td>\n",
              "      <td>0</td>\n",
              "      <td>232</td>\n",
              "      <td>898</td>\n",
              "      <td>0</td>\n",
              "      <td>2087</td>\n",
              "      <td>2</td>\n",
              "      <td>1</td>\n",
              "    </tr>\n",
              "    <tr>\n",
              "      <th>1</th>\n",
              "      <td>2019-01-01</td>\n",
              "      <td>00:10:00</td>\n",
              "      <td>2258</td>\n",
              "      <td>0</td>\n",
              "      <td>8.6</td>\n",
              "      <td>76.0</td>\n",
              "      <td>0.0</td>\n",
              "      <td>4</td>\n",
              "      <td>0</td>\n",
              "      <td>0</td>\n",
              "      <td>...</td>\n",
              "      <td>0</td>\n",
              "      <td>169</td>\n",
              "      <td>0</td>\n",
              "      <td>0</td>\n",
              "      <td>233</td>\n",
              "      <td>182</td>\n",
              "      <td>0</td>\n",
              "      <td>2076</td>\n",
              "      <td>2</td>\n",
              "      <td>1</td>\n",
              "    </tr>\n",
              "    <tr>\n",
              "      <th>2</th>\n",
              "      <td>2019-01-01</td>\n",
              "      <td>00:15:00</td>\n",
              "      <td>2266</td>\n",
              "      <td>0</td>\n",
              "      <td>8.7</td>\n",
              "      <td>76.0</td>\n",
              "      <td>0.0</td>\n",
              "      <td>8</td>\n",
              "      <td>0</td>\n",
              "      <td>0</td>\n",
              "      <td>...</td>\n",
              "      <td>0</td>\n",
              "      <td>169</td>\n",
              "      <td>0</td>\n",
              "      <td>0</td>\n",
              "      <td>233</td>\n",
              "      <td>186</td>\n",
              "      <td>0</td>\n",
              "      <td>2080</td>\n",
              "      <td>2</td>\n",
              "      <td>1</td>\n",
              "    </tr>\n",
              "    <tr>\n",
              "      <th>3</th>\n",
              "      <td>2019-01-01</td>\n",
              "      <td>00:20:00</td>\n",
              "      <td>3016</td>\n",
              "      <td>0</td>\n",
              "      <td>8.7</td>\n",
              "      <td>76.0</td>\n",
              "      <td>0.0</td>\n",
              "      <td>8</td>\n",
              "      <td>0</td>\n",
              "      <td>0</td>\n",
              "      <td>...</td>\n",
              "      <td>0</td>\n",
              "      <td>167</td>\n",
              "      <td>0</td>\n",
              "      <td>0</td>\n",
              "      <td>232</td>\n",
              "      <td>950</td>\n",
              "      <td>0</td>\n",
              "      <td>2066</td>\n",
              "      <td>2</td>\n",
              "      <td>1</td>\n",
              "    </tr>\n",
              "    <tr>\n",
              "      <th>4</th>\n",
              "      <td>2019-01-01</td>\n",
              "      <td>00:25:00</td>\n",
              "      <td>2265</td>\n",
              "      <td>0</td>\n",
              "      <td>8.6</td>\n",
              "      <td>76.0</td>\n",
              "      <td>0.0</td>\n",
              "      <td>7</td>\n",
              "      <td>0</td>\n",
              "      <td>0</td>\n",
              "      <td>...</td>\n",
              "      <td>0</td>\n",
              "      <td>167</td>\n",
              "      <td>0</td>\n",
              "      <td>0</td>\n",
              "      <td>230</td>\n",
              "      <td>186</td>\n",
              "      <td>0</td>\n",
              "      <td>2079</td>\n",
              "      <td>2</td>\n",
              "      <td>1</td>\n",
              "    </tr>\n",
              "  </tbody>\n",
              "</table>\n",
              "<p>5 rows × 32 columns</p>\n",
              "</div>\n",
              "      <button class=\"colab-df-convert\" onclick=\"convertToInteractive('df-1aea291f-7769-4e16-a845-55a9696ae060')\"\n",
              "              title=\"Convert this dataframe to an interactive table.\"\n",
              "              style=\"display:none;\">\n",
              "        \n",
              "  <svg xmlns=\"http://www.w3.org/2000/svg\" height=\"24px\"viewBox=\"0 0 24 24\"\n",
              "       width=\"24px\">\n",
              "    <path d=\"M0 0h24v24H0V0z\" fill=\"none\"/>\n",
              "    <path d=\"M18.56 5.44l.94 2.06.94-2.06 2.06-.94-2.06-.94-.94-2.06-.94 2.06-2.06.94zm-11 1L8.5 8.5l.94-2.06 2.06-.94-2.06-.94L8.5 2.5l-.94 2.06-2.06.94zm10 10l.94 2.06.94-2.06 2.06-.94-2.06-.94-.94-2.06-.94 2.06-2.06.94z\"/><path d=\"M17.41 7.96l-1.37-1.37c-.4-.4-.92-.59-1.43-.59-.52 0-1.04.2-1.43.59L10.3 9.45l-7.72 7.72c-.78.78-.78 2.05 0 2.83L4 21.41c.39.39.9.59 1.41.59.51 0 1.02-.2 1.41-.59l7.78-7.78 2.81-2.81c.8-.78.8-2.07 0-2.86zM5.41 20L4 18.59l7.72-7.72 1.47 1.35L5.41 20z\"/>\n",
              "  </svg>\n",
              "      </button>\n",
              "      \n",
              "  <style>\n",
              "    .colab-df-container {\n",
              "      display:flex;\n",
              "      flex-wrap:wrap;\n",
              "      gap: 12px;\n",
              "    }\n",
              "\n",
              "    .colab-df-convert {\n",
              "      background-color: #E8F0FE;\n",
              "      border: none;\n",
              "      border-radius: 50%;\n",
              "      cursor: pointer;\n",
              "      display: none;\n",
              "      fill: #1967D2;\n",
              "      height: 32px;\n",
              "      padding: 0 0 0 0;\n",
              "      width: 32px;\n",
              "    }\n",
              "\n",
              "    .colab-df-convert:hover {\n",
              "      background-color: #E2EBFA;\n",
              "      box-shadow: 0px 1px 2px rgba(60, 64, 67, 0.3), 0px 1px 3px 1px rgba(60, 64, 67, 0.15);\n",
              "      fill: #174EA6;\n",
              "    }\n",
              "\n",
              "    [theme=dark] .colab-df-convert {\n",
              "      background-color: #3B4455;\n",
              "      fill: #D2E3FC;\n",
              "    }\n",
              "\n",
              "    [theme=dark] .colab-df-convert:hover {\n",
              "      background-color: #434B5C;\n",
              "      box-shadow: 0px 1px 3px 1px rgba(0, 0, 0, 0.15);\n",
              "      filter: drop-shadow(0px 1px 2px rgba(0, 0, 0, 0.3));\n",
              "      fill: #FFFFFF;\n",
              "    }\n",
              "  </style>\n",
              "\n",
              "      <script>\n",
              "        const buttonEl =\n",
              "          document.querySelector('#df-1aea291f-7769-4e16-a845-55a9696ae060 button.colab-df-convert');\n",
              "        buttonEl.style.display =\n",
              "          google.colab.kernel.accessAllowed ? 'block' : 'none';\n",
              "\n",
              "        async function convertToInteractive(key) {\n",
              "          const element = document.querySelector('#df-1aea291f-7769-4e16-a845-55a9696ae060');\n",
              "          const dataTable =\n",
              "            await google.colab.kernel.invokeFunction('convertToInteractive',\n",
              "                                                     [key], {});\n",
              "          if (!dataTable) return;\n",
              "\n",
              "          const docLinkHtml = 'Like what you see? Visit the ' +\n",
              "            '<a target=\"_blank\" href=https://colab.research.google.com/notebooks/data_table.ipynb>data table notebook</a>'\n",
              "            + ' to learn more about interactive tables.';\n",
              "          element.innerHTML = '';\n",
              "          dataTable['output_type'] = 'display_data';\n",
              "          await google.colab.output.renderOutput(dataTable, element);\n",
              "          const docLink = document.createElement('div');\n",
              "          docLink.innerHTML = docLinkHtml;\n",
              "          element.appendChild(docLink);\n",
              "        }\n",
              "      </script>\n",
              "    </div>\n",
              "  </div>\n",
              "  "
            ]
          },
          "metadata": {},
          "execution_count": 9
        }
      ]
    },
    {
      "cell_type": "code",
      "source": [
        "ds_merged.info()"
      ],
      "metadata": {
        "id": "ivsD87DZnOwp"
      },
      "execution_count": null,
      "outputs": []
    },
    {
      "cell_type": "code",
      "source": [
        "# Isolar X ( features that contribuite to the prediction ) and Y ( Y is the value to predict )\n",
        "#x_features = ['power_w_hvac','power_w_light','power_w_socket','isoweekday','temperature_c', 'humidity_perc', 'period_of_day']\n",
        "x_features = ['power_w_hvac','power_w_light','power_w_socket','temperature_c', 'humidity_perc']\n",
        "\n",
        "\n",
        "y = ds_merged['consumption_w']     # O que pretendo prever\n",
        "X = ds_merged[x_features]"
      ],
      "metadata": {
        "id": "0jRsNxy7nRtW"
      },
      "execution_count": 12,
      "outputs": []
    },
    {
      "cell_type": "code",
      "source": [
        "# Partition data\n",
        "X_train, X_test, y_train, y_test = train_test_split(X, y, \n",
        "                                                    test_size=0.2, \n",
        "                                                    random_state=1)"
      ],
      "metadata": {
        "id": "LHzw7i_0nT6x"
      },
      "execution_count": 13,
      "outputs": []
    },
    {
      "cell_type": "code",
      "source": [
        "print(f\"Training features shape: {X_train.shape}\")\n",
        "print(f\"Training target shape: {y_train.shape}\\n\")\n",
        "print(f\"Test features shape: {X_test.shape}\")\n",
        "print(f\"Test target shape: {y_test.shape}\")\n",
        "display(X_train.head())"
      ],
      "metadata": {
        "colab": {
          "base_uri": "https://localhost:8080/",
          "height": 293
        },
        "id": "N5O7FIjinWNN",
        "outputId": "c75f3e95-aa81-43cf-c102-1c311197fab9"
      },
      "execution_count": 14,
      "outputs": [
        {
          "output_type": "stream",
          "name": "stdout",
          "text": [
            "Training features shape: (7141, 5)\n",
            "Training target shape: (7141,)\n",
            "\n",
            "Test features shape: (1786, 5)\n",
            "Test target shape: (1786,)\n"
          ]
        },
        {
          "output_type": "display_data",
          "data": {
            "text/plain": [
              "      power_w_hvac  power_w_light  power_w_socket  temperature_c  \\\n",
              "784            200            436            4038           12.0   \n",
              "3836           634              0            2172            5.7   \n",
              "1512           833              0            2089            5.4   \n",
              "6320           188              0            2142           10.8   \n",
              "6858          1280            712            2510           13.1   \n",
              "\n",
              "      humidity_perc  \n",
              "784            65.0  \n",
              "3836           83.0  \n",
              "1512           69.0  \n",
              "6320           91.0  \n",
              "6858           89.0  "
            ],
            "text/html": [
              "\n",
              "  <div id=\"df-d603d15e-0892-4e91-89d6-e6b7e4c2fd72\">\n",
              "    <div class=\"colab-df-container\">\n",
              "      <div>\n",
              "<style scoped>\n",
              "    .dataframe tbody tr th:only-of-type {\n",
              "        vertical-align: middle;\n",
              "    }\n",
              "\n",
              "    .dataframe tbody tr th {\n",
              "        vertical-align: top;\n",
              "    }\n",
              "\n",
              "    .dataframe thead th {\n",
              "        text-align: right;\n",
              "    }\n",
              "</style>\n",
              "<table border=\"1\" class=\"dataframe\">\n",
              "  <thead>\n",
              "    <tr style=\"text-align: right;\">\n",
              "      <th></th>\n",
              "      <th>power_w_hvac</th>\n",
              "      <th>power_w_light</th>\n",
              "      <th>power_w_socket</th>\n",
              "      <th>temperature_c</th>\n",
              "      <th>humidity_perc</th>\n",
              "    </tr>\n",
              "  </thead>\n",
              "  <tbody>\n",
              "    <tr>\n",
              "      <th>784</th>\n",
              "      <td>200</td>\n",
              "      <td>436</td>\n",
              "      <td>4038</td>\n",
              "      <td>12.0</td>\n",
              "      <td>65.0</td>\n",
              "    </tr>\n",
              "    <tr>\n",
              "      <th>3836</th>\n",
              "      <td>634</td>\n",
              "      <td>0</td>\n",
              "      <td>2172</td>\n",
              "      <td>5.7</td>\n",
              "      <td>83.0</td>\n",
              "    </tr>\n",
              "    <tr>\n",
              "      <th>1512</th>\n",
              "      <td>833</td>\n",
              "      <td>0</td>\n",
              "      <td>2089</td>\n",
              "      <td>5.4</td>\n",
              "      <td>69.0</td>\n",
              "    </tr>\n",
              "    <tr>\n",
              "      <th>6320</th>\n",
              "      <td>188</td>\n",
              "      <td>0</td>\n",
              "      <td>2142</td>\n",
              "      <td>10.8</td>\n",
              "      <td>91.0</td>\n",
              "    </tr>\n",
              "    <tr>\n",
              "      <th>6858</th>\n",
              "      <td>1280</td>\n",
              "      <td>712</td>\n",
              "      <td>2510</td>\n",
              "      <td>13.1</td>\n",
              "      <td>89.0</td>\n",
              "    </tr>\n",
              "  </tbody>\n",
              "</table>\n",
              "</div>\n",
              "      <button class=\"colab-df-convert\" onclick=\"convertToInteractive('df-d603d15e-0892-4e91-89d6-e6b7e4c2fd72')\"\n",
              "              title=\"Convert this dataframe to an interactive table.\"\n",
              "              style=\"display:none;\">\n",
              "        \n",
              "  <svg xmlns=\"http://www.w3.org/2000/svg\" height=\"24px\"viewBox=\"0 0 24 24\"\n",
              "       width=\"24px\">\n",
              "    <path d=\"M0 0h24v24H0V0z\" fill=\"none\"/>\n",
              "    <path d=\"M18.56 5.44l.94 2.06.94-2.06 2.06-.94-2.06-.94-.94-2.06-.94 2.06-2.06.94zm-11 1L8.5 8.5l.94-2.06 2.06-.94-2.06-.94L8.5 2.5l-.94 2.06-2.06.94zm10 10l.94 2.06.94-2.06 2.06-.94-2.06-.94-.94-2.06-.94 2.06-2.06.94z\"/><path d=\"M17.41 7.96l-1.37-1.37c-.4-.4-.92-.59-1.43-.59-.52 0-1.04.2-1.43.59L10.3 9.45l-7.72 7.72c-.78.78-.78 2.05 0 2.83L4 21.41c.39.39.9.59 1.41.59.51 0 1.02-.2 1.41-.59l7.78-7.78 2.81-2.81c.8-.78.8-2.07 0-2.86zM5.41 20L4 18.59l7.72-7.72 1.47 1.35L5.41 20z\"/>\n",
              "  </svg>\n",
              "      </button>\n",
              "      \n",
              "  <style>\n",
              "    .colab-df-container {\n",
              "      display:flex;\n",
              "      flex-wrap:wrap;\n",
              "      gap: 12px;\n",
              "    }\n",
              "\n",
              "    .colab-df-convert {\n",
              "      background-color: #E8F0FE;\n",
              "      border: none;\n",
              "      border-radius: 50%;\n",
              "      cursor: pointer;\n",
              "      display: none;\n",
              "      fill: #1967D2;\n",
              "      height: 32px;\n",
              "      padding: 0 0 0 0;\n",
              "      width: 32px;\n",
              "    }\n",
              "\n",
              "    .colab-df-convert:hover {\n",
              "      background-color: #E2EBFA;\n",
              "      box-shadow: 0px 1px 2px rgba(60, 64, 67, 0.3), 0px 1px 3px 1px rgba(60, 64, 67, 0.15);\n",
              "      fill: #174EA6;\n",
              "    }\n",
              "\n",
              "    [theme=dark] .colab-df-convert {\n",
              "      background-color: #3B4455;\n",
              "      fill: #D2E3FC;\n",
              "    }\n",
              "\n",
              "    [theme=dark] .colab-df-convert:hover {\n",
              "      background-color: #434B5C;\n",
              "      box-shadow: 0px 1px 3px 1px rgba(0, 0, 0, 0.15);\n",
              "      filter: drop-shadow(0px 1px 2px rgba(0, 0, 0, 0.3));\n",
              "      fill: #FFFFFF;\n",
              "    }\n",
              "  </style>\n",
              "\n",
              "      <script>\n",
              "        const buttonEl =\n",
              "          document.querySelector('#df-d603d15e-0892-4e91-89d6-e6b7e4c2fd72 button.colab-df-convert');\n",
              "        buttonEl.style.display =\n",
              "          google.colab.kernel.accessAllowed ? 'block' : 'none';\n",
              "\n",
              "        async function convertToInteractive(key) {\n",
              "          const element = document.querySelector('#df-d603d15e-0892-4e91-89d6-e6b7e4c2fd72');\n",
              "          const dataTable =\n",
              "            await google.colab.kernel.invokeFunction('convertToInteractive',\n",
              "                                                     [key], {});\n",
              "          if (!dataTable) return;\n",
              "\n",
              "          const docLinkHtml = 'Like what you see? Visit the ' +\n",
              "            '<a target=\"_blank\" href=https://colab.research.google.com/notebooks/data_table.ipynb>data table notebook</a>'\n",
              "            + ' to learn more about interactive tables.';\n",
              "          element.innerHTML = '';\n",
              "          dataTable['output_type'] = 'display_data';\n",
              "          await google.colab.output.renderOutput(dataTable, element);\n",
              "          const docLink = document.createElement('div');\n",
              "          docLink.innerHTML = docLinkHtml;\n",
              "          element.appendChild(docLink);\n",
              "        }\n",
              "      </script>\n",
              "    </div>\n",
              "  </div>\n",
              "  "
            ]
          },
          "metadata": {}
        }
      ]
    },
    {
      "cell_type": "code",
      "source": [
        "# Train a simple model\n",
        "model = RandomForestRegressor(random_state=42)\n",
        "model.fit(X_train, y_train)"
      ],
      "metadata": {
        "colab": {
          "base_uri": "https://localhost:8080/"
        },
        "id": "MOBz8qcOnZOK",
        "outputId": "603a23f3-0e62-4776-952d-91207eea3f40"
      },
      "execution_count": 15,
      "outputs": [
        {
          "output_type": "execute_result",
          "data": {
            "text/plain": [
              "RandomForestRegressor(random_state=42)"
            ]
          },
          "metadata": {},
          "execution_count": 15
        }
      ]
    },
    {
      "cell_type": "code",
      "source": [
        "# Predict the values"
      ],
      "metadata": {
        "id": "wa7h2tLXsii7"
      },
      "execution_count": null,
      "outputs": []
    },
    {
      "cell_type": "code",
      "source": [
        "prediction = model.predict(X_test)"
      ],
      "metadata": {
        "id": "zL7Pm2-2ofNH"
      },
      "execution_count": 16,
      "outputs": []
    },
    {
      "cell_type": "code",
      "source": [
        "prediction"
      ],
      "metadata": {
        "colab": {
          "base_uri": "https://localhost:8080/"
        },
        "id": "1kbbgI1IodfW",
        "outputId": "c6430bf0-a2c5-4789-c863-b300b3256904"
      },
      "execution_count": 17,
      "outputs": [
        {
          "output_type": "execute_result",
          "data": {
            "text/plain": [
              "array([2570.98, 5101.21, 5616.25, ..., 3443.88, 3782.86, 7747.54])"
            ]
          },
          "metadata": {},
          "execution_count": 17
        }
      ]
    },
    {
      "cell_type": "markdown",
      "source": [
        "Dump the machine learning model"
      ],
      "metadata": {
        "id": "K0-ESL8iryCO"
      }
    },
    {
      "cell_type": "code",
      "source": [
        "import joblib\n",
        "from joblib import dump, load\n",
        "\n",
        "ml_model_file_name = 'rf_ml_model.pkl'\n",
        "with open(ml_model_file_name, 'wb') as fid:\n",
        "     joblib.dump(model, fid)"
      ],
      "metadata": {
        "id": "SSd4U3jTr3eu"
      },
      "execution_count": 18,
      "outputs": []
    },
    {
      "cell_type": "markdown",
      "source": [
        "Load the machine learning model"
      ],
      "metadata": {
        "id": "eydE2JzgsIAi"
      }
    },
    {
      "cell_type": "code",
      "source": [
        "# Read the data from the file\n",
        "with open(ml_model_file_name, 'rb') as fid:\n",
        "     reconstructed = joblib.load(fid)"
      ],
      "metadata": {
        "id": "4s0se0acsHJ1"
      },
      "execution_count": 19,
      "outputs": []
    },
    {
      "cell_type": "code",
      "source": [
        "#import pickle\n",
        "# Pickle to serialize and deserialize\n",
        "#pickled_model = pickle.dumps(model)\n",
        "#reconstructed = pickle.loads(pickled_model)\n",
        "\n",
        "\n"
      ],
      "metadata": {
        "id": "cQza4gs5n0BD"
      },
      "execution_count": null,
      "outputs": []
    },
    {
      "cell_type": "code",
      "source": [
        "prediction_reconstructed_model = reconstructed.predict(X_test)"
      ],
      "metadata": {
        "id": "z7W1cIQfopEz"
      },
      "execution_count": 20,
      "outputs": []
    },
    {
      "cell_type": "code",
      "source": [
        "prediction_reconstructed_model"
      ],
      "metadata": {
        "colab": {
          "base_uri": "https://localhost:8080/"
        },
        "id": "oysRPU85owWD",
        "outputId": "6e80d1f7-aabc-4042-c7db-8a0b11ad08b4"
      },
      "execution_count": 21,
      "outputs": [
        {
          "output_type": "execute_result",
          "data": {
            "text/plain": [
              "array([2570.98, 5101.21, 5616.25, ..., 3443.88, 3782.86, 7747.54])"
            ]
          },
          "metadata": {},
          "execution_count": 21
        }
      ]
    },
    {
      "cell_type": "markdown",
      "source": [
        "#Bibliografia"
      ],
      "metadata": {
        "id": "aSAc6y9LZbBB"
      }
    },
    {
      "cell_type": "markdown",
      "source": [
        "***Joblib: running Python functions as pipeline jobs***\n",
        "- https://joblib.readthedocs.io/en/latest/index.html\n",
        "\n",
        "\n",
        "***Saving Machine Learning And Deep Learning Models***\n",
        "- https://medium.com/analytics-vidhya/save-machine-learning-and-deep-learning-models-3b27f1ea550"
      ],
      "metadata": {
        "id": "LgPUMMKpZgNe"
      }
    }
  ]
}